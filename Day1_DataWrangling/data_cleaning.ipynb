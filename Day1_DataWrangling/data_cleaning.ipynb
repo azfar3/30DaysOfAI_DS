{
 "cells": [
  {
   "cell_type": "code",
   "execution_count": 2,
   "id": "c22a3960-8748-44db-94e1-ec79bc6807a8",
   "metadata": {},
   "outputs": [],
   "source": [
    "import pandas as pd\n",
    "import numpy as np"
   ]
  },
  {
   "cell_type": "code",
   "execution_count": 3,
   "id": "df3fd420-f138-4ea0-bad3-6f47ec382fa0",
   "metadata": {},
   "outputs": [],
   "source": [
    "df = pd.read_csv('data/googleplaystore.csv')"
   ]
  },
  {
   "cell_type": "code",
   "execution_count": null,
   "id": "172432f0-c836-4e58-9cd1-41c34c62b4ce",
   "metadata": {},
   "outputs": [
    {
     "name": "stdout",
     "output_type": "stream",
     "text": [
      "Column Names:  ['Sr.', 'App', 'Category', 'Rating', 'Reviews', 'Size', 'Installs', 'Type', 'Price', 'Content Rating', 'Genres', 'Last Updated', 'Current Ver', 'Android Ver', 'Rating_normalized']\n"
     ]
    }
   ],
   "source": [
    "# print(\"Dataset shape: \", df.shape)\n",
    "# print(\"First 5 rows\\n\", df.head())\n",
    "print(\"Column Names: \", df.columns.tolist())\n",
    "# print(\"Info: \", df.info)"
   ]
  },
  {
   "cell_type": "code",
   "execution_count": 14,
   "id": "02b220fc-74c6-402d-afc2-02149aaff63e",
   "metadata": {},
   "outputs": [
    {
     "name": "stdout",
     "output_type": "stream",
     "text": [
      "Missing values in dataset\n",
      " App                  0\n",
      "Category             0\n",
      "Rating            1474\n",
      "Reviews              0\n",
      "Size                 0\n",
      "Installs             0\n",
      "Type                 1\n",
      "Price                0\n",
      "Content Rating       1\n",
      "Genres               0\n",
      "Last Updated         0\n",
      "Current Ver          8\n",
      "Android Ver          3\n",
      "dtype: int64\n",
      "After handling fixing numerical values\n",
      " App               0\n",
      "Category          0\n",
      "Rating            0\n",
      "Reviews           0\n",
      "Size              0\n",
      "Installs          0\n",
      "Type              1\n",
      "Price             0\n",
      "Content Rating    1\n",
      "Genres            0\n",
      "Last Updated      0\n",
      "Current Ver       8\n",
      "Android Ver       3\n",
      "dtype: int64\n",
      "After handling fixing categorical values\n",
      " App               0\n",
      "Category          0\n",
      "Rating            0\n",
      "Reviews           0\n",
      "Size              0\n",
      "Installs          0\n",
      "Type              0\n",
      "Price             0\n",
      "Content Rating    0\n",
      "Genres            0\n",
      "Last Updated      0\n",
      "Current Ver       0\n",
      "Android Ver       0\n",
      "dtype: int64\n"
     ]
    },
    {
     "name": "stderr",
     "output_type": "stream",
     "text": [
      "C:\\Users\\Dell\\AppData\\Local\\Temp\\ipykernel_8536\\1490819332.py:5: FutureWarning: A value is trying to be set on a copy of a DataFrame or Series through chained assignment using an inplace method.\n",
      "The behavior will change in pandas 3.0. This inplace method will never work because the intermediate object on which we are setting values always behaves as a copy.\n",
      "\n",
      "For example, when doing 'df[col].method(value, inplace=True)', try using 'df.method({col: value}, inplace=True)' or df[col] = df[col].method(value) instead, to perform the operation inplace on the original object.\n",
      "\n",
      "\n",
      "  df['Rating'].fillna(df['Rating'].median(), inplace=True)\n",
      "C:\\Users\\Dell\\AppData\\Local\\Temp\\ipykernel_8536\\1490819332.py:9: FutureWarning: A value is trying to be set on a copy of a DataFrame or Series through chained assignment using an inplace method.\n",
      "The behavior will change in pandas 3.0. This inplace method will never work because the intermediate object on which we are setting values always behaves as a copy.\n",
      "\n",
      "For example, when doing 'df[col].method(value, inplace=True)', try using 'df.method({col: value}, inplace=True)' or df[col] = df[col].method(value) instead, to perform the operation inplace on the original object.\n",
      "\n",
      "\n",
      "  df['Type'].fillna('Unknown', inplace=True)\n",
      "C:\\Users\\Dell\\AppData\\Local\\Temp\\ipykernel_8536\\1490819332.py:10: FutureWarning: A value is trying to be set on a copy of a DataFrame or Series through chained assignment using an inplace method.\n",
      "The behavior will change in pandas 3.0. This inplace method will never work because the intermediate object on which we are setting values always behaves as a copy.\n",
      "\n",
      "For example, when doing 'df[col].method(value, inplace=True)', try using 'df.method({col: value}, inplace=True)' or df[col] = df[col].method(value) instead, to perform the operation inplace on the original object.\n",
      "\n",
      "\n",
      "  df['Content Rating'].fillna('Unknown', inplace=True)\n",
      "C:\\Users\\Dell\\AppData\\Local\\Temp\\ipykernel_8536\\1490819332.py:11: FutureWarning: A value is trying to be set on a copy of a DataFrame or Series through chained assignment using an inplace method.\n",
      "The behavior will change in pandas 3.0. This inplace method will never work because the intermediate object on which we are setting values always behaves as a copy.\n",
      "\n",
      "For example, when doing 'df[col].method(value, inplace=True)', try using 'df.method({col: value}, inplace=True)' or df[col] = df[col].method(value) instead, to perform the operation inplace on the original object.\n",
      "\n",
      "\n",
      "  df['Current Ver'].fillna('Unknown', inplace=True)\n",
      "C:\\Users\\Dell\\AppData\\Local\\Temp\\ipykernel_8536\\1490819332.py:12: FutureWarning: A value is trying to be set on a copy of a DataFrame or Series through chained assignment using an inplace method.\n",
      "The behavior will change in pandas 3.0. This inplace method will never work because the intermediate object on which we are setting values always behaves as a copy.\n",
      "\n",
      "For example, when doing 'df[col].method(value, inplace=True)', try using 'df.method({col: value}, inplace=True)' or df[col] = df[col].method(value) instead, to perform the operation inplace on the original object.\n",
      "\n",
      "\n",
      "  df['Android Ver'].fillna('Unknown', inplace=True)\n"
     ]
    }
   ],
   "source": [
    "print(\"Missing values in dataset\\n\", df.isnull().sum())\n",
    "\n",
    "# fixing missing values\n",
    "# numerical values\n",
    "df['Rating'].fillna(df['Rating'].median(), inplace=True)\n",
    "print(\"After handling fixing numerical values\\n\", df.isnull().sum())\n",
    "\n",
    "# categorical values\n",
    "df['Type'].fillna('Unknown', inplace=True)\n",
    "df['Content Rating'].fillna('Unknown', inplace=True)\n",
    "df['Current Ver'].fillna('Unknown', inplace=True)\n",
    "df['Android Ver'].fillna('Unknown', inplace=True)\n",
    "print(\"After handling fixing categorical values\\n\", df.isnull().sum())"
   ]
  },
  {
   "cell_type": "code",
   "execution_count": 13,
   "id": "84971f1f-b82b-4921-affd-5e16f5224fa3",
   "metadata": {},
   "outputs": [
    {
     "name": "stdout",
     "output_type": "stream",
     "text": [
      "Data types:\n",
      "App                object\n",
      "Category           object\n",
      "Rating            float64\n",
      "Reviews            object\n",
      "Size               object\n",
      "Installs           object\n",
      "Type               object\n",
      "Price              object\n",
      "Content Rating     object\n",
      "Genres             object\n",
      "Last Updated       object\n",
      "Current Ver        object\n",
      "Android Ver        object\n",
      "dtype: object\n"
     ]
    }
   ],
   "source": [
    "print(\"Data types:\")\n",
    "print(df.dtypes)"
   ]
  },
  {
   "cell_type": "code",
   "execution_count": 16,
   "id": "0d9f2f8c-649a-4903-8c10-dad3ca6bc63d",
   "metadata": {},
   "outputs": [
    {
     "name": "stdout",
     "output_type": "stream",
     "text": [
      "Descriptive statistics:\n",
      "             Rating\n",
      "count  10841.000000\n",
      "mean       4.207841\n",
      "std        0.500893\n",
      "min        1.000000\n",
      "25%        4.100000\n",
      "50%        4.300000\n",
      "75%        4.500000\n",
      "max       19.000000\n"
     ]
    }
   ],
   "source": [
    "print(\"Descriptive statistics:\")\n",
    "print(df.describe())"
   ]
  },
  {
   "cell_type": "code",
   "execution_count": 17,
   "id": "ff73e458-4a26-4b47-9cde-9392437b8784",
   "metadata": {},
   "outputs": [
    {
     "name": "stdout",
     "output_type": "stream",
     "text": [
      "Original 'Rating' range: 1.0 - 19.0\n",
      "Normalized 'Rating_normalized' range: 0.0 - 1.0\n"
     ]
    }
   ],
   "source": [
    "# Calculate the min and max of the column\n",
    "data_min = df['Rating'].min()\n",
    "data_max = df['Rating'].max()\n",
    "\n",
    "# Apply the formula using Pandas\n",
    "df['Rating_normalized'] = (df['Rating'] - data_min) / (data_max - data_min)\n",
    "\n",
    "# Verify the result\n",
    "print(\"Original 'Rating' range:\", df['Rating'].min(), \"-\", df['Rating'].max())\n",
    "print(\"Normalized 'Rating_normalized' range:\", df['Rating_normalized'].min(), \"-\", df['Rating_normalized'].max())"
   ]
  },
  {
   "cell_type": "code",
   "execution_count": null,
   "id": "55bfd741-5957-48cf-844d-d806d11e913c",
   "metadata": {},
   "outputs": [
    {
     "name": "stdout",
     "output_type": "stream",
     "text": [
      "Data cleaning complete! Cleaned data saved to 'cleaned_dataset.csv'.\n",
      "Final shape: (10841, 14)\n"
     ]
    }
   ],
   "source": [
    "df.to_csv('data/cleaned_googleplaystore.csv')\n",
    "\n",
    "print(\"Data cleaning complete! Cleaned data saved to 'cleaned_dataset.csv'.\")\n",
    "print(\"Final shape:\", df.shape)"
   ]
  }
 ],
 "metadata": {
  "kernelspec": {
   "display_name": "venv",
   "language": "python",
   "name": "python3"
  },
  "language_info": {
   "codemirror_mode": {
    "name": "ipython",
    "version": 3
   },
   "file_extension": ".py",
   "mimetype": "text/x-python",
   "name": "python",
   "nbconvert_exporter": "python",
   "pygments_lexer": "ipython3",
   "version": "3.12.6"
  }
 },
 "nbformat": 4,
 "nbformat_minor": 5
}
