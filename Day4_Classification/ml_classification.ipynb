{
 "cells": [
  {
   "cell_type": "code",
   "execution_count": 25,
   "id": "460c42d2-c686-413a-bfb7-7c15e0ccdff1",
   "metadata": {},
   "outputs": [],
   "source": [
    "# Import standards\n",
    "import pandas as pd\n",
    "import numpy as np\n",
    "import matplotlib.pyplot as plt\n",
    "import seaborn as sns\n",
    "%matplotlib inline\n",
    "\n",
    "# Import KEY Machine Learning libraries from scikit-learn\n",
    "from sklearn.model_selection import train_test_split\n",
    "from sklearn.preprocessing import LabelEncoder, StandardScaler\n",
    "from sklearn.linear_model import LogisticRegression\n",
    "from sklearn.ensemble import RandomForestClassifier\n",
    "from sklearn.metrics import accuracy_score, confusion_matrix, classification_report\n",
    "\n",
    "# Load your cleaned dataset from Day 1\n",
    "df = pd.read_csv('../Day1_DataWrangling/data/cleaned_googleplaystore.csv')"
   ]
  },
  {
   "cell_type": "code",
   "execution_count": 26,
   "id": "5fbd8f61-1814-4a7b-b6ef-3867dd60640e",
   "metadata": {},
   "outputs": [
    {
     "name": "stdout",
     "output_type": "stream",
     "text": [
      "Rows where 'Price' contains 'Everyone':\n",
      "         Sr.                                      App Category  Rating  \\\n",
      "10472  10472  Life Made WI-Fi Touchscreen Photo Frame      1.9    19.0   \n",
      "\n",
      "      Reviews    Size Installs Type     Price Content Rating  \\\n",
      "10472    3.0M  1,000+     Free    0  Everyone        Unknown   \n",
      "\n",
      "                  Genres Last Updated Current Ver Android Ver  \\\n",
      "10472  February 11, 2018       1.0.19  4.0 and up     Unknown   \n",
      "\n",
      "       Rating_normalized  \n",
      "10472                1.0  \n",
      "\n",
      "Unique values in 'Price' column:\n",
      "['0' '$4.99' '$3.99' '$6.99' '$1.49' '$2.99' '$7.99' '$5.99' '$3.49'\n",
      " '$1.99' '$9.99' '$7.49' '$0.99' '$9.00' '$5.49' '$10.00' '$24.99'\n",
      " '$11.99' '$79.99' '$16.99']\n"
     ]
    }
   ],
   "source": [
    "# Find rows where the 'Price' column contains non-numeric values\n",
    "problematic_rows = df[df['Price'].str.contains('Everyone', na=False)]\n",
    "print(\"Rows where 'Price' contains 'Everyone':\")\n",
    "print(problematic_rows)\n",
    "\n",
    "# Let's also check what unique values are in the Price column\n",
    "print(\"\\nUnique values in 'Price' column:\")\n",
    "print(df['Price'].unique()[:20])  # Show first 20 unique values"
   ]
  },
  {
   "cell_type": "code",
   "execution_count": 27,
   "id": "34d44aeb-07bc-4450-b730-153a653a54c2",
   "metadata": {},
   "outputs": [
    {
     "name": "stdout",
     "output_type": "stream",
     "text": [
      "Number of invalid Price rows: 1\n"
     ]
    }
   ],
   "source": [
    "# Drop rows where Price contains non-numeric values\n",
    "# First, identify what constitutes a valid price pattern\n",
    "valid_price_pattern = r'^\\$?\\d+(\\.\\d{1,2})?$|^0$'  # Matches: $4.99, 4.99, 0\n",
    "\n",
    "# Find rows to keep\n",
    "mask = df['Price'].str.match(valid_price_pattern, na=False)\n",
    "print(f\"Number of invalid Price rows: {len(df) - mask.sum()}\")\n",
    "\n",
    "# Keep only rows with valid prices\n",
    "df = df[mask].copy()"
   ]
  },
  {
   "cell_type": "code",
   "execution_count": 28,
   "id": "cce3fe5c-ca47-4084-a468-39c093152f2b",
   "metadata": {},
   "outputs": [
    {
     "name": "stdout",
     "output_type": "stream",
     "text": [
      "New data types after conversion:\n",
      "Sr.                    int64\n",
      "Category              object\n",
      "Rating               float64\n",
      "Reviews              float64\n",
      "Size                 float64\n",
      "Installs               int64\n",
      "Type                  object\n",
      "Price                float64\n",
      "Content Rating        object\n",
      "Genres                object\n",
      "Rating_normalized    float64\n",
      "Days_Since_Update      int64\n",
      "dtype: object\n"
     ]
    }
   ],
   "source": [
    "# --- HANDLING NON-NUMERIC COLUMNS ---\n",
    "df_ml = df.copy()\n",
    "\n",
    "# 1. DROP THE COLUMNS THAT ARE NOT USEFUL\n",
    "df_ml = df_ml.drop(['App', 'Current Ver', 'Android Ver'], axis=1)\n",
    "\n",
    "# 2. CONVERT 'Reviews' to numeric (handles commas, 'M', 'k')\n",
    "def convert_reviews(review_str):\n",
    "    if pd.isna(review_str):\n",
    "        return np.nan\n",
    "    review_str = str(review_str).strip().upper()\n",
    "    review_str = review_str.replace(',', '')\n",
    "    \n",
    "    if review_str.endswith('M'):\n",
    "        multiplier = 1_000_000\n",
    "        review_str = review_str.rstrip('M')\n",
    "    elif review_str.endswith('K'):\n",
    "        multiplier = 1_000\n",
    "        review_str = review_str.rstrip('K')\n",
    "    else:\n",
    "        multiplier = 1\n",
    "        \n",
    "    try:\n",
    "        return float(review_str) * multiplier\n",
    "    except:\n",
    "        return np.nan\n",
    "\n",
    "df_ml['Reviews'] = df_ml['Reviews'].apply(convert_reviews)\n",
    "df_ml['Reviews'] = df_ml['Reviews'].fillna(df_ml['Reviews'].median())\n",
    "\n",
    "# 3. CONVERT 'Size' to numeric (handles 'M', 'k', and 'Varies with device')\n",
    "def convert_size(size_str):\n",
    "    if size_str == 'Varies with device':\n",
    "        return np.nan\n",
    "    size_str = size_str.strip()\n",
    "    multiplier = 1\n",
    "    if size_str.endswith('M'):\n",
    "        multiplier = 1\n",
    "        size_str = size_str.rstrip('M')\n",
    "    elif size_str.endswith('k'):\n",
    "        multiplier = 1/1000\n",
    "        size_str = size_str.rstrip('k')\n",
    "    try:\n",
    "        return float(size_str) * multiplier\n",
    "    except:\n",
    "        return np.nan\n",
    "\n",
    "df_ml['Size'] = df_ml['Size'].apply(convert_size)\n",
    "df_ml['Size'] = df_ml['Size'].fillna(df_ml['Size'].median())\n",
    "\n",
    "# 4. CONVERT 'Installs' to numeric (handle 'Free', '+', commas)\n",
    "def convert_installs(install_str):\n",
    "    if pd.isna(install_str):\n",
    "        return np.nan\n",
    "    install_str = str(install_str).strip()\n",
    "    \n",
    "    if install_str == 'Free':\n",
    "        return 0\n",
    "    elif install_str in ['Paid', 'Varies with device']:\n",
    "        return np.nan\n",
    "        \n",
    "    install_str = install_str.replace('+', '').replace(',', '')\n",
    "    try:\n",
    "        return int(install_str)\n",
    "    except ValueError:\n",
    "        return np.nan\n",
    "\n",
    "df_ml['Installs'] = df_ml['Installs'].apply(convert_installs)\n",
    "df_ml['Installs'] = df_ml['Installs'].fillna(df_ml['Installs'].median())\n",
    "\n",
    "# 5. CONVERT 'Price' to numeric (remove '$')\n",
    "df_ml['Price'] = df_ml['Price'].str.replace('$', '', regex=False).astype(float)\n",
    "\n",
    "# 6. CONVERT 'Last Updated' to numeric (days since update)\n",
    "df_ml['Last Updated'] = pd.to_datetime(df_ml['Last Updated'])\n",
    "reference_date = pd.Timestamp('2024-01-01')\n",
    "df_ml['Days_Since_Update'] = (reference_date - df_ml['Last Updated']).dt.days\n",
    "df_ml = df_ml.drop('Last Updated', axis=1)\n",
    "\n",
    "print(\"New data types after conversion:\")\n",
    "print(df_ml.dtypes)"
   ]
  },
  {
   "cell_type": "code",
   "execution_count": 29,
   "id": "b717cae0-f923-4112-817a-005d34c5c759",
   "metadata": {},
   "outputs": [
    {
     "name": "stdout",
     "output_type": "stream",
     "text": [
      "Unique values in 'Installs' column:\n",
      "[     10000     500000    5000000   50000000     100000      50000\n",
      "    1000000   10000000       5000  100000000 1000000000       1000\n",
      "  500000000         50        100        500         10          1\n",
      "          5          0]\n",
      "\n",
      "Value counts for 'Installs':\n",
      "Installs\n",
      "1000000       1579\n",
      "10000000      1252\n",
      "100000        1169\n",
      "10000         1054\n",
      "1000           907\n",
      "5000000        752\n",
      "100            719\n",
      "500000         539\n",
      "50000          479\n",
      "5000           477\n",
      "100000000      409\n",
      "10             386\n",
      "500            330\n",
      "50000000       289\n",
      "50             205\n",
      "5               82\n",
      "500000000       72\n",
      "1               67\n",
      "1000000000      58\n",
      "0               15\n",
      "Name: count, dtype: int64\n"
     ]
    }
   ],
   "source": [
    "# Check what unique values are in the Installs column\n",
    "print(\"Unique values in 'Installs' column:\")\n",
    "print(df_ml['Installs'].unique())\n",
    "\n",
    "# Check value counts to see how many 'Free' values there are\n",
    "print(\"\\nValue counts for 'Installs':\")\n",
    "print(df_ml['Installs'].value_counts())"
   ]
  },
  {
   "cell_type": "code",
   "execution_count": 30,
   "id": "83b66cb4-7462-4427-93d2-1edc48759a79",
   "metadata": {},
   "outputs": [
    {
     "name": "stdout",
     "output_type": "stream",
     "text": [
      "Final feature matrix shape: (10840, 7)\n",
      "Final feature data types:\n",
      "Reviews              float64\n",
      "Size                 float64\n",
      "Installs               int64\n",
      "Price                float64\n",
      "Days_Since_Update      int64\n",
      "Rating               float64\n",
      "Rating_normalized    float64\n",
      "dtype: object\n"
     ]
    }
   ],
   "source": [
    "# 1. Define your Target and Features using the NEW df_ml DataFrame\n",
    "y = df_ml['Type']\n",
    "\n",
    "numerical_features = ['Reviews', 'Size', 'Installs', 'Price', 'Days_Since_Update', 'Rating', 'Rating_normalized']\n",
    "X = df_ml[numerical_features]\n",
    "\n",
    "# 2. Encode the Categorical TARGET Variable ('Type')\n",
    "from sklearn.preprocessing import LabelEncoder\n",
    "label_encoder = LabelEncoder()\n",
    "y_encoded = label_encoder.fit_transform(y) # Free -> 0, Paid -> 1\n",
    "\n",
    "# 3. Check for any remaining categorical features in X\n",
    "# There shouldn't be any if you dropped 'Category', 'Genres' etc. earlier?\n",
    "# If there are, encode them with get_dummies\n",
    "categorical_columns = X.select_dtypes(include=['object']).columns\n",
    "if len(categorical_columns) > 0:\n",
    "    print(f\"Encoding remaining categorical features: {categorical_columns}\")\n",
    "    X = pd.get_dummies(X, columns=categorical_columns, drop_first=True)\n",
    "\n",
    "# 4. Split the data\n",
    "from sklearn.model_selection import train_test_split\n",
    "X_train, X_test, y_train, y_test = train_test_split(X, y_encoded, test_size=0.3, random_state=42)\n",
    "\n",
    "print(\"Final feature matrix shape:\", X.shape)\n",
    "print(\"Final feature data types:\")\n",
    "print(X.dtypes)"
   ]
  },
  {
   "cell_type": "code",
   "execution_count": 31,
   "id": "6ffad38c-55ad-4890-a719-8062a6a42831",
   "metadata": {},
   "outputs": [
    {
     "name": "stdout",
     "output_type": "stream",
     "text": [
      "Data Types of your Feature Matrix (X):\n",
      "Reviews              float64\n",
      "Size                 float64\n",
      "Installs               int64\n",
      "Price                float64\n",
      "Days_Since_Update      int64\n",
      "Rating               float64\n",
      "Rating_normalized    float64\n",
      "dtype: object\n",
      "\n",
      "All columns are numeric. Good to go!\n"
     ]
    }
   ],
   "source": [
    "# This is the most important debugging step\n",
    "print(\"Data Types of your Feature Matrix (X):\")\n",
    "print(X.dtypes)\n",
    "\n",
    "# Let's find any remaining non-numeric columns\n",
    "non_numeric_columns = X.select_dtypes(include=['object', 'category']).columns\n",
    "if len(non_numeric_columns) > 0:\n",
    "    print(f\"\\n!!! WARNING: Found non-numeric columns: {list(non_numeric_columns)}\")\n",
    "    print(\"\\nSample values from these columns:\")\n",
    "    for col in non_numeric_columns:\n",
    "        print(f\"{col}: {X[col].iloc[0]}\")\n",
    "else:\n",
    "    print(\"\\nAll columns are numeric. Good to go!\")"
   ]
  },
  {
   "cell_type": "code",
   "execution_count": 32,
   "id": "9eb56bd9-0f1c-4cb7-af1e-6570ffb26d06",
   "metadata": {},
   "outputs": [
    {
     "name": "stdout",
     "output_type": "stream",
     "text": [
      "Training set size: (7588, 7)\n",
      "Testing set size: (3252, 7)\n",
      "Proportion of 'Paid' apps in training set: 0.07\n",
      "Proportion of 'Paid' apps in testing set: 0.08\n"
     ]
    }
   ],
   "source": [
    "# Split the data into training and testing sets\n",
    "X_train, X_test, y_train, y_test = train_test_split(X, y_encoded, test_size=0.3, random_state=42)\n",
    "# stratify=y ensures the proportion of Free/Paid apps is the same in both train and test sets\n",
    "\n",
    "print(f\"Training set size: {X_train.shape}\")\n",
    "print(f\"Testing set size: {X_test.shape}\")\n",
    "print(f\"Proportion of 'Paid' apps in training set: {y_train.mean():.2f}\")\n",
    "print(f\"Proportion of 'Paid' apps in testing set: {y_test.mean():.2f}\")"
   ]
  },
  {
   "cell_type": "code",
   "execution_count": 33,
   "id": "df448139-0fab-49a4-8cd5-6762e16433be",
   "metadata": {},
   "outputs": [
    {
     "name": "stdout",
     "output_type": "stream",
     "text": [
      "=== Logistic Regression ===\n",
      "Accuracy: 1.0\n",
      "\n",
      "Confusion Matrix:\n",
      "[[3005    0]\n",
      " [   0  247]]\n",
      "\n",
      "Classification Report:\n",
      "              precision    recall  f1-score   support\n",
      "\n",
      "           0       1.00      1.00      1.00      3005\n",
      "           1       1.00      1.00      1.00       247\n",
      "\n",
      "    accuracy                           1.00      3252\n",
      "   macro avg       1.00      1.00      1.00      3252\n",
      "weighted avg       1.00      1.00      1.00      3252\n",
      "\n"
     ]
    }
   ],
   "source": [
    "# 1. Create the model object\n",
    "logreg_model = LogisticRegression(random_state=42, max_iter=1000)\n",
    "\n",
    "# 2. Train the model on the training data\n",
    "logreg_model.fit(X_train, y_train)\n",
    "\n",
    "# 3. Make predictions\n",
    "logreg_predictions = logreg_model.predict(X_test)\n",
    "\n",
    "# 4. Evaluate the model's performance\n",
    "print(\"=== Logistic Regression ===\")\n",
    "print('Accuracy:', accuracy_score(y_test, logreg_predictions))\n",
    "print('\\nConfusion Matrix:')\n",
    "print(confusion_matrix(y_test, logreg_predictions))\n",
    "print('\\nClassification Report:')\n",
    "print(classification_report(y_test, logreg_predictions))"
   ]
  },
  {
   "cell_type": "code",
   "execution_count": 34,
   "id": "e7a6bdf0-a535-456b-ac4a-5edbcc832bd8",
   "metadata": {},
   "outputs": [
    {
     "name": "stdout",
     "output_type": "stream",
     "text": [
      "\n",
      "=== Random Forest Classifier ===\n",
      "Accuracy: 1.0\n",
      "\n",
      "Confusion Matrix:\n",
      "[[3005    0]\n",
      " [   0  247]]\n",
      "\n",
      "Classification Report:\n",
      "              precision    recall  f1-score   support\n",
      "\n",
      "           0       1.00      1.00      1.00      3005\n",
      "           1       1.00      1.00      1.00       247\n",
      "\n",
      "    accuracy                           1.00      3252\n",
      "   macro avg       1.00      1.00      1.00      3252\n",
      "weighted avg       1.00      1.00      1.00      3252\n",
      "\n"
     ]
    }
   ],
   "source": [
    "# 1. Create the model object\n",
    "rf_model = RandomForestClassifier(n_estimators=100, random_state=42)\n",
    "\n",
    "# 2. Train the model\n",
    "rf_model.fit(X_train, y_train)\n",
    "\n",
    "# 3. Make predictions\n",
    "rf_predictions = rf_model.predict(X_test)\n",
    "\n",
    "# 4. Evaluate\n",
    "print(\"\\n=== Random Forest Classifier ===\")\n",
    "print('Accuracy:', accuracy_score(y_test, rf_predictions))\n",
    "print('\\nConfusion Matrix:')\n",
    "print(confusion_matrix(y_test, rf_predictions))\n",
    "print('\\nClassification Report:')\n",
    "print(classification_report(y_test, rf_predictions))"
   ]
  },
  {
   "cell_type": "code",
   "execution_count": 35,
   "id": "bcd29656-069c-49dc-b9b1-e0678c8fa731",
   "metadata": {},
   "outputs": [
    {
     "data": {
      "image/png": "[encoded data removed]",
      "text/plain": [
       "<Figure size 800x600 with 2 Axes>"
      ]
     },
     "metadata": {},
     "output_type": "display_data"
    },
    {
     "data": {
      "image/png": "[encoded data removed]",
      "text/plain": [
       "<Figure size 1000x600 with 1 Axes>"
      ]
     },
     "metadata": {},
     "output_type": "display_data"
    }
   ],
   "source": [
    "# Plot the Confusion Matrix for the best model (e.g., Random Forest)\n",
    "plt.figure(figsize=(8, 6))\n",
    "sns.heatmap(confusion_matrix(y_test, rf_predictions),\n",
    "            annot=True, fmt='d', cmap='Blues',\n",
    "            xticklabels=label_encoder.classes_,\n",
    "            yticklabels=label_encoder.classes_)\n",
    "plt.xlabel('Predicted Label')\n",
    "plt.ylabel('True Label')\n",
    "plt.title('Confusion Matrix for App Type Prediction (Random Forest)')\n",
    "plt.show()\n",
    "\n",
    "# Check which features were most important for the prediction\n",
    "feature_importances = pd.Series(rf_model.feature_importances_, index=X.columns)\n",
    "top_10_features = feature_importances.sort_values(ascending=False).head(10)\n",
    "\n",
    "plt.figure(figsize=(10, 6))\n",
    "top_10_features.plot(kind='barh') # Horizontal bar chart\n",
    "plt.title('Top 10 Features for Predicting App Type (Free vs. Paid)')\n",
    "plt.xlabel('Importance')\n",
    "plt.gca().invert_yaxis() # To show the most important at the top\n",
    "plt.tight_layout()\n",
    "plt.show()"
   ]
  },
  {
   "cell_type": "code",
   "execution_count": 36,
   "id": "e2ccaa0f-917f-4ca1-9f8e-0dcbe633fd6f",
   "metadata": {},
   "outputs": [
    {
     "name": "stdout",
     "output_type": "stream",
     "text": [
      "Model saved as 'random_forest_model.pkl'\n"
     ]
    }
   ],
   "source": [
    "# Import joblib for saving/loading models\n",
    "import joblib\n",
    "\n",
    "# Assuming 'rf_model' was your best Random Forest model from Day 4\n",
    "# Save the model to a file\n",
    "joblib.dump(rf_model, 'random_forest_model.pkl')\n",
    "\n",
    "print(\"Model saved as 'random_forest_model.pkl'\")\n"
   ]
  }
 ],
 "metadata": {
  "kernelspec": {
   "display_name": "venv",
   "language": "python",
   "name": "python3"
  },
  "language_info": {
   "codemirror_mode": {
    "name": "ipython",
    "version": 3
   },
   "file_extension": ".py",
   "mimetype": "text/x-python",
   "name": "python",
   "nbconvert_exporter": "python",
   "pygments_lexer": "ipython3",
   "version": "3.12.6"
  }
 },
 "nbformat": 4,
 "nbformat_minor": 5
}
